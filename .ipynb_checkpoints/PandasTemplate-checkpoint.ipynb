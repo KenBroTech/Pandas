{
 "cells": [
  {
   "cell_type": "markdown",
   "metadata": {},
   "source": [
    "![pandas.png](media/pandas.png)\n",
    "\n",
    "---"
   ]
  },
  {
   "cell_type": "markdown",
   "metadata": {},
   "source": [
    "## Python Pandas For Absolute Beginners\n",
    "\n",
    "\n",
    "\n",
    "\n",
    "\n",
    "\n",
    "### What is Pandas?\n",
    "- Pandas is a Python library used in data science and data analytics.\n",
    "- It has functions and methods that are used for exploratory analysis and data manipulations.\n",
    "\n",
    "\n",
    "\n",
    "\n",
    "### Why Learn and Use Pandas?\n",
    "1. Pandas allows Data Scientists to import, analyze and explore data.\n",
    "2. Pandas is used for data pre-processing, especially in data cleaning.\n",
    "3. Pandas provides Data Scientists with some statistical inferences on data.\n",
    "4. Pandas is easy to learn \n",
    "\n",
    "\n",
    "\n",
    "\n",
    "[Pandas Official Website](https://pandas.pydata.org/)"
   ]
  },
  {
   "cell_type": "markdown",
   "metadata": {},
   "source": [
    "### Install Pandas\n",
    "\n",
    "\n",
    "` pip install pandas `\n",
    "\n",
    "\n"
   ]
  },
  {
   "cell_type": "code",
   "execution_count": 1,
   "metadata": {},
   "outputs": [],
   "source": [
    "# Importing Pandas\n"
   ]
  },
  {
   "cell_type": "code",
   "execution_count": null,
   "metadata": {},
   "outputs": [],
   "source": [
    "# Check version of Pandas\n",
    "# print(pd.__version__)\n"
   ]
  },
  {
   "cell_type": "markdown",
   "metadata": {},
   "source": [
    "# Series and DataFrame\n",
    "\n",
    "## What is a Series?\n",
    "- A Pandas Series is a 1-D array holding data of any type.\n",
    "\n",
    "- It is like a column in a table or matrix\n",
    "\n",
    "## What is a DataFrame? \n",
    "\n",
    "- When Dataset is multi-dimensional, they are stored in a structure called DataFrames.\n",
    "\n",
    "- If a Series is like a column, then, the DataFrame is the whole table\n",
    "\n",
    "![SeriesPandas.png](media/SeriesPandas.png)"
   ]
  },
  {
   "cell_type": "markdown",
   "metadata": {},
   "source": [
    "## Series\n"
   ]
  },
  {
   "cell_type": "code",
   "execution_count": 1,
   "metadata": {},
   "outputs": [],
   "source": [
    "# Create Pandas Series from a Python List\n"
   ]
  },
  {
   "cell_type": "code",
   "execution_count": 2,
   "metadata": {},
   "outputs": [],
   "source": [
    "# Create Pandas Series with Index\n"
   ]
  },
  {
   "cell_type": "code",
   "execution_count": 3,
   "metadata": {},
   "outputs": [],
   "source": [
    "# Create Pandas Series from a Python Dictionary\n"
   ]
  },
  {
   "cell_type": "code",
   "execution_count": null,
   "metadata": {},
   "outputs": [],
   "source": []
  },
  {
   "cell_type": "markdown",
   "metadata": {},
   "source": [
    "##  DataFrame\n",
    "\n"
   ]
  },
  {
   "cell_type": "code",
   "execution_count": 4,
   "metadata": {},
   "outputs": [],
   "source": [
    "# Create Pandas DataFrame\n"
   ]
  },
  {
   "cell_type": "code",
   "execution_count": null,
   "metadata": {},
   "outputs": [],
   "source": []
  },
  {
   "cell_type": "code",
   "execution_count": null,
   "metadata": {},
   "outputs": [],
   "source": [
    "# Passing in data using loc\n"
   ]
  },
  {
   "cell_type": "code",
   "execution_count": null,
   "metadata": {},
   "outputs": [],
   "source": []
  },
  {
   "cell_type": "code",
   "execution_count": null,
   "metadata": {},
   "outputs": [],
   "source": [
    "# Create Pandas DataFrame from a Python List\n"
   ]
  },
  {
   "cell_type": "code",
   "execution_count": null,
   "metadata": {},
   "outputs": [],
   "source": []
  },
  {
   "cell_type": "code",
   "execution_count": null,
   "metadata": {},
   "outputs": [],
   "source": [
    "# Using the loc attribute to return one or more specified row(s)\n"
   ]
  },
  {
   "cell_type": "markdown",
   "metadata": {},
   "source": [
    "###  Dataset and Data Sources\n",
    "- Kaggle\n",
    "- UCI Machine Learning Repository\n",
    "- Experimental trials\n",
    "\n",
    "\n",
    "\n",
    "\n",
    "#### Iris Dataset\n",
    "[Iris Dataset from kaggle](https://www.kaggle.com/uciml/iris?select=Iris.csv) \n",
    "\n",
    "[Iris Dataset from UCI Machine Learning Repository](https://archive.ics.uci.edu/ml/datasets/iris)"
   ]
  },
  {
   "cell_type": "markdown",
   "metadata": {},
   "source": [
    "![alt text](media/iris.png)"
   ]
  },
  {
   "cell_type": "code",
   "execution_count": null,
   "metadata": {},
   "outputs": [],
   "source": [
    "# Import from CSV file\n"
   ]
  },
  {
   "cell_type": "code",
   "execution_count": null,
   "metadata": {},
   "outputs": [],
   "source": [
    "# View Data\n"
   ]
  },
  {
   "cell_type": "code",
   "execution_count": null,
   "metadata": {},
   "outputs": [],
   "source": [
    "# Check Head --- Returns the first 5 rows of the DataFrame\n"
   ]
  },
  {
   "cell_type": "code",
   "execution_count": null,
   "metadata": {},
   "outputs": [],
   "source": [
    "# Check Tail --- Returns the last 5 rows of the DataFrame\n"
   ]
  },
  {
   "cell_type": "code",
   "execution_count": null,
   "metadata": {},
   "outputs": [],
   "source": [
    "# Check Shape --- Returns a tupple showing the number of rows and columns\n"
   ]
  },
  {
   "cell_type": "code",
   "execution_count": null,
   "metadata": {},
   "outputs": [],
   "source": [
    "# Check Info --- Returns basic information on the DataFrame\n"
   ]
  },
  {
   "cell_type": "code",
   "execution_count": null,
   "metadata": {},
   "outputs": [],
   "source": []
  },
  {
   "cell_type": "markdown",
   "metadata": {},
   "source": [
    "## Pandas - Data Pre-Processing and Cleaning\n",
    "\n",
    "\n",
    "Data cleaning means fixing errors or bad data in your data set. This is a pre-processing activity that needs to be carried out before using the dataset\n",
    "\n",
    "Bad dataset could be a combination of:\n",
    "\n",
    "- Empty cells or null values\n",
    "- Data in wrong format\n",
    "- Wrong data\n",
    "- Duplicates\n"
   ]
  },
  {
   "cell_type": "code",
   "execution_count": null,
   "metadata": {},
   "outputs": [],
   "source": [
    "# Remove Null Values -- dropna()\n"
   ]
  },
  {
   "cell_type": "code",
   "execution_count": null,
   "metadata": {},
   "outputs": [],
   "source": [
    "# Replace Null Values -- fillna()\n"
   ]
  },
  {
   "cell_type": "code",
   "execution_count": 6,
   "metadata": {},
   "outputs": [],
   "source": [
    "# Replace Null Values for Specific Columns-- fillna()\n"
   ]
  },
  {
   "cell_type": "code",
   "execution_count": null,
   "metadata": {},
   "outputs": [],
   "source": [
    "# Replace Null Values Using Mean, Median or Mode -- fillna()\n"
   ]
  },
  {
   "cell_type": "markdown",
   "metadata": {},
   "source": [
    "### Exercise\n",
    "\n",
    "#### Use the Median and Mode values of columns to replace missing values in their respective columns"
   ]
  },
  {
   "cell_type": "code",
   "execution_count": null,
   "metadata": {},
   "outputs": [],
   "source": [
    "# Remove Duplicates \n",
    "\n",
    "# duplicated \n",
    "\n",
    "# drop_duplicates\n"
   ]
  },
  {
   "cell_type": "markdown",
   "metadata": {},
   "source": [
    "## Pandas - Basic Data Analysis\n",
    "\n",
    "\n",
    "Data analysis simple means getting an insight of data. It invloves using tool(s) such as Python, R, Excel, SQL and Libraries such as Pandas and Numpy to understand data. \n",
    "\n",
    "In this section, we will look at the following techniques in Data Analysis:\n",
    "\n",
    "- Filtering\n",
    "- Sorting\n",
    "- Data Correlation\n",
    "\n"
   ]
  },
  {
   "cell_type": "code",
   "execution_count": null,
   "metadata": {},
   "outputs": [],
   "source": [
    "# Filtering\n"
   ]
  },
  {
   "cell_type": "code",
   "execution_count": null,
   "metadata": {},
   "outputs": [],
   "source": [
    "# Sorting\n"
   ]
  },
  {
   "cell_type": "code",
   "execution_count": null,
   "metadata": {},
   "outputs": [],
   "source": [
    "# Data Correlation\n"
   ]
  }
 ],
 "metadata": {
  "kernelspec": {
   "display_name": "Python 3",
   "language": "python",
   "name": "python3"
  },
  "language_info": {
   "codemirror_mode": {
    "name": "ipython",
    "version": 3
   },
   "file_extension": ".py",
   "mimetype": "text/x-python",
   "name": "python",
   "nbconvert_exporter": "python",
   "pygments_lexer": "ipython3",
   "version": "3.9.1"
  }
 },
 "nbformat": 4,
 "nbformat_minor": 4
}
